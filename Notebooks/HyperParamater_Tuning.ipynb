{
 "cells": [
  {
   "metadata": {
    "ExecuteTime": {
     "end_time": "2024-10-25T13:46:48.266254Z",
     "start_time": "2024-10-25T13:46:48.262746Z"
    }
   },
   "cell_type": "code",
   "source": [
    "import pandas as pd\n",
    "from sklearn.ensemble import RandomForestClassifier\n",
    "from sklearn.linear_model import LogisticRegression\n",
    "from sklearn.model_selection import train_test_split\n",
    "from sklearn.preprocessing import StandardScaler\n",
    "from sklearn.svm import SVC\n",
    "from sklearn.tree import DecisionTreeClassifier\n",
    "import joblib\n",
    "\n",
    "from Python_Files.tuner import Tuner"
   ],
   "id": "4c6135fbd751e008",
   "outputs": [],
   "execution_count": 10
  },
  {
   "cell_type": "code",
   "id": "initial_id",
   "metadata": {
    "collapsed": true,
    "ExecuteTime": {
     "end_time": "2024-10-25T13:46:54.248094Z",
     "start_time": "2024-10-25T13:46:50.372651Z"
    }
   },
   "source": [
    "# Load the preprocessed dataset (replace the path with your actual file path)\n",
    "data = pd.read_csv('../data/norm_data.csv')\n",
    "\n",
    "# Define features (X) and target (y)\n",
    "X = data.copy()\n",
    "y = X.pop('label')\n",
    "\n",
    "# Split the dataset into training and test sets (using only 25% of the data)\n",
    "X_train, X_test, y_train, y_test = train_test_split(X, y, test_size=0.75, random_state=42)\n",
    "\n",
    "# Scale the features\n",
    "scaler = StandardScaler()\n",
    "X_train = scaler.fit_transform(X_train)\n",
    "X_test = scaler.transform(X_test)\n",
    "\n",
    "joblib.dump(scaler, '../models/scaler.pkl')"
   ],
   "outputs": [
    {
     "data": {
      "text/plain": [
       "['../models/scaler.pkl']"
      ]
     },
     "execution_count": 11,
     "metadata": {},
     "output_type": "execute_result"
    }
   ],
   "execution_count": 11
  },
  {
   "metadata": {},
   "cell_type": "markdown",
   "source": [
    "# Analysis of logisitc regression\n",
    "\n",
    "## Default Model:  \n",
    "- Trains a Logistic Regression model with default settings.\n",
    "- Evaluates the model on the test data.\n",
    "\n",
    "## Tuned Model:  \n",
    "\n",
    "- Uses GridSearchCV to find the best settings (hyperparameters) for the Logistic Regression model.\n",
    "- Trains the model with these best settings.\n",
    "- Evaluates the tuned model on the test data.\n",
    "\n",
    "## Cross-Validation:  \n",
    "\n",
    "- Checks the average performance of both the default and tuned models using cross-validation (splitting the data into 5 parts and training/testing on each part).\n",
    "\n",
    "## Results:  \n",
    "\n",
    "\n",
    "### Default Model:  \n",
    "- Accuracy: 0.999978 \n",
    "\n",
    "### Tuned Model:  \n",
    "- Accuracy: 0.999990 (slightly better than default)\n",
    "\n",
    "### Cross-Validation:  \n",
    "- Default model average accuracy: 0.999941\n",
    "- Tuned model average accuracy: 0.999975\n",
    "- Both models perform extremely well, with the tuned model being slightly better."
   ],
   "id": "c3add20a576c5e2b"
  },
  {
   "metadata": {},
   "cell_type": "markdown",
   "source": "Create the tuner class",
   "id": "4a6b80b607907d73"
  },
  {
   "metadata": {
    "ExecuteTime": {
     "end_time": "2024-10-25T13:54:32.427468Z",
     "start_time": "2024-10-25T13:54:30.929255Z"
    }
   },
   "cell_type": "code",
   "source": "tuner_log_reg = Tuner(LogisticRegression(max_iter=1000), X_train, X_test, y_train, y_test)",
   "id": "30f69de6693cbb69",
   "outputs": [],
   "execution_count": 31
  },
  {
   "metadata": {},
   "cell_type": "markdown",
   "source": "Evaluate the default model",
   "id": "e65c6b6ed1fb6705"
  },
  {
   "metadata": {
    "ExecuteTime": {
     "end_time": "2024-10-25T13:55:40.429733Z",
     "start_time": "2024-10-25T13:54:32.443558Z"
    }
   },
   "cell_type": "code",
   "source": "tuner_log_reg.evaluate()",
   "id": "fcb23f22ddd4934b",
   "outputs": [
    {
     "name": "stdout",
     "output_type": "stream",
     "text": [
      "Default model accuracy:\n",
      "\t0.9999610665420796\n",
      "Default model Report:\n",
      "              precision    recall  f1-score   support\n",
      "\n",
      "  legitimate       1.00      1.00      1.00    937571\n",
      "    phishing       1.00      1.00      1.00    937423\n",
      "\n",
      "    accuracy                           1.00   1874994\n",
      "   macro avg       1.00      1.00      1.00   1874994\n",
      "weighted avg       1.00      1.00      1.00   1874994\n",
      "\n"
     ]
    }
   ],
   "execution_count": 32
  },
  {
   "metadata": {},
   "cell_type": "markdown",
   "source": "tune the model",
   "id": "d3b4917b75087639"
  },
  {
   "metadata": {
    "ExecuteTime": {
     "end_time": "2024-10-25T13:56:17.781378Z",
     "start_time": "2024-10-25T13:55:40.444399Z"
    }
   },
   "cell_type": "code",
   "source": [
    "param_grid_log_reg = {\n",
    "    'C': [0.1, 1, 10, 100],\n",
    "    'solver': ['liblinear', 'lbfgs']\n",
    "}\n",
    "\n",
    "tuner_log_reg.tune(param_grid=param_grid_log_reg)"
   ],
   "id": "8395f3da89baa950",
   "outputs": [],
   "execution_count": 33
  },
  {
   "metadata": {},
   "cell_type": "markdown",
   "source": "Evaluate the best model",
   "id": "19eb9c3a1cc467d3"
  },
  {
   "metadata": {
    "ExecuteTime": {
     "end_time": "2024-10-25T13:57:25.379677Z",
     "start_time": "2024-10-25T13:56:17.795117Z"
    }
   },
   "cell_type": "code",
   "source": "tuner_log_reg.evaluate(model='best')",
   "id": "a33bea1e05e7702d",
   "outputs": [
    {
     "name": "stdout",
     "output_type": "stream",
     "text": [
      "Best model accuracy:\n",
      "\t0.9999797332684798\n",
      "Best model Report:\n",
      "              precision    recall  f1-score   support\n",
      "\n",
      "  legitimate       1.00      1.00      1.00    937571\n",
      "    phishing       1.00      1.00      1.00    937423\n",
      "\n",
      "    accuracy                           1.00   1874994\n",
      "   macro avg       1.00      1.00      1.00   1874994\n",
      "weighted avg       1.00      1.00      1.00   1874994\n",
      "\n"
     ]
    }
   ],
   "execution_count": 34
  },
  {
   "metadata": {},
   "cell_type": "markdown",
   "source": "Perform cross validation",
   "id": "841da96d719b5c3b"
  },
  {
   "metadata": {
    "ExecuteTime": {
     "end_time": "2024-10-25T13:57:28.184505Z",
     "start_time": "2024-10-25T13:57:25.393366Z"
    }
   },
   "cell_type": "code",
   "source": "tuner_log_reg.cross_validation()",
   "id": "46af7b2f78e62523",
   "outputs": [
    {
     "name": "stdout",
     "output_type": "stream",
     "text": [
      "Default model Cross-Validation accuracy:\n",
      "\t0.9999471998463987\n"
     ]
    }
   ],
   "execution_count": 35
  },
  {
   "metadata": {
    "ExecuteTime": {
     "end_time": "2024-10-25T13:57:36.756909Z",
     "start_time": "2024-10-25T13:57:28.207713Z"
    }
   },
   "cell_type": "code",
   "source": "tuner_log_reg.cross_validation(model='best')",
   "id": "6691b7bf4dbdfe11",
   "outputs": [
    {
     "name": "stdout",
     "output_type": "stream",
     "text": [
      "Best model Cross-Validation accuracy:\n",
      "\t0.9999759999359995\n"
     ]
    }
   ],
   "execution_count": 36
  },
  {
   "metadata": {},
   "cell_type": "markdown",
   "source": [
    "# Analysis of Decision Tree\n",
    "\n",
    "## Default Model:\n",
    "\n",
    "- Trains a Decision Tree model with default settings.\n",
    "- Evaluates the model on the test data.\n",
    "\n",
    "## Tuned Model:\n",
    "\n",
    "- Uses GridSearchCV to find the best settings (hyperparameters) for the Decision Tree model.\n",
    "- Trains the model with these best settings.\n",
    "- Evaluates the tuned model on the test data.\n",
    "\n",
    "## Cross-Validation:\n",
    "- Checks the average performance of both the default and tuned models using cross-validation (splitting the data into 5 parts and training/testing on each part).\n",
    "\n",
    "## Results:\n",
    "Default Model:\n",
    "- Accuracy: 0.999972\n",
    "-  Detailed report shows precision, recall, and F1-score all close to 1.00 for both classes (0 and 1)\n",
    "\n",
    "Tuned Model:\n",
    "- Accuracy: 0.999972 (same as default)\n",
    "- Detailed report shows precision, recall, and F1-score all close to 1.00 for both classes (0 and 1)\n",
    "\n",
    "Cross-Validation:\n",
    "- Default model average accuracy: 0.999985\n",
    "- Tuned model average accuracy: 0.999986"
   ],
   "id": "66fa297aac147f2e"
  },
  {
   "metadata": {},
   "cell_type": "markdown",
   "source": "Create the tuner class",
   "id": "8b405472d18196c9"
  },
  {
   "metadata": {
    "ExecuteTime": {
     "end_time": "2024-10-25T12:15:24.837052Z",
     "start_time": "2024-10-25T12:15:22.766924Z"
    }
   },
   "cell_type": "code",
   "source": "tuner_tree_clf = Tuner(DecisionTreeClassifier(), X_train, X_test, y_train, y_test)",
   "id": "cf0f3e83edcb77a3",
   "outputs": [],
   "execution_count": 9
  },
  {
   "metadata": {},
   "cell_type": "markdown",
   "source": "Evaluate the default model",
   "id": "dbedc6a932af3e4a"
  },
  {
   "metadata": {
    "ExecuteTime": {
     "end_time": "2024-10-25T12:16:34.886630Z",
     "start_time": "2024-10-25T12:15:26.575650Z"
    }
   },
   "cell_type": "code",
   "source": "tuner_tree_clf.evaluate()",
   "id": "652abf903b46b4a9",
   "outputs": [
    {
     "name": "stdout",
     "output_type": "stream",
     "text": [
      "Default model accuracy:\n",
      "\t0.9999429331507195\n",
      "Default model Report:\n",
      "\t              precision    recall  f1-score   support\n",
      "\n",
      "  legitimate       1.00      1.00      1.00    937571\n",
      "    phishing       1.00      1.00      1.00    937423\n",
      "\n",
      "    accuracy                           1.00   1874994\n",
      "   macro avg       1.00      1.00      1.00   1874994\n",
      "weighted avg       1.00      1.00      1.00   1874994\n",
      "\n"
     ]
    }
   ],
   "execution_count": 10
  },
  {
   "metadata": {},
   "cell_type": "markdown",
   "source": "tune the model",
   "id": "485dcbe9eb52ebd5"
  },
  {
   "metadata": {
    "ExecuteTime": {
     "end_time": "2024-10-25T12:17:00.704751Z",
     "start_time": "2024-10-25T12:16:38.143740Z"
    }
   },
   "cell_type": "code",
   "source": [
    "param_grid_tree_clf = {\n",
    "    'max_depth': [None, 10, 20, 30],\n",
    "    'min_samples_split': [2, 5, 10]\n",
    "}\n",
    "\n",
    "tuner_tree_clf.tune(param_grid=param_grid_tree_clf)"
   ],
   "id": "c251683016c7a1f5",
   "outputs": [],
   "execution_count": 11
  },
  {
   "metadata": {},
   "cell_type": "markdown",
   "source": "Evaluate the best model",
   "id": "d124b1a5d31be20"
  },
  {
   "metadata": {
    "ExecuteTime": {
     "end_time": "2024-10-25T12:18:16.963574Z",
     "start_time": "2024-10-25T12:17:08.786837Z"
    }
   },
   "cell_type": "code",
   "source": "tuner_tree_clf.evaluate(model='best')",
   "id": "da773e241b8bf0b",
   "outputs": [
    {
     "name": "stdout",
     "output_type": "stream",
     "text": [
      "Best model accuracy:\n",
      "\t0.9999541331865596\n",
      "Best model Report:\n",
      "\t              precision    recall  f1-score   support\n",
      "\n",
      "  legitimate       1.00      1.00      1.00    937571\n",
      "    phishing       1.00      1.00      1.00    937423\n",
      "\n",
      "    accuracy                           1.00   1874994\n",
      "   macro avg       1.00      1.00      1.00   1874994\n",
      "weighted avg       1.00      1.00      1.00   1874994\n",
      "\n"
     ]
    }
   ],
   "execution_count": 12
  },
  {
   "metadata": {},
   "cell_type": "markdown",
   "source": "Perform cross validation",
   "id": "a3204e2cc608a3b7"
  },
  {
   "metadata": {
    "ExecuteTime": {
     "end_time": "2024-10-25T12:18:20.519147Z",
     "start_time": "2024-10-25T12:18:16.971090Z"
    }
   },
   "cell_type": "code",
   "source": "tuner_tree_clf.cross_validation()",
   "id": "52606270a99210fd",
   "outputs": [
    {
     "name": "stdout",
     "output_type": "stream",
     "text": [
      "Default model Cross-Validation accuracy:\n",
      "\t0.9999567998207987\n"
     ]
    }
   ],
   "execution_count": 13
  },
  {
   "metadata": {
    "ExecuteTime": {
     "end_time": "2024-10-25T12:18:24.151064Z",
     "start_time": "2024-10-25T12:18:20.587472Z"
    }
   },
   "cell_type": "code",
   "source": "tuner_tree_clf.cross_validation(model='best')",
   "id": "fdec006dd72102cc",
   "outputs": [
    {
     "name": "stdout",
     "output_type": "stream",
     "text": [
      "Best model Cross-Validation accuracy:\n",
      "\t0.9999551998335987\n"
     ]
    }
   ],
   "execution_count": 14
  },
  {
   "metadata": {},
   "cell_type": "markdown",
   "source": [
    "# Analysis of Random Forest\n",
    "### Default Model:\n",
    "- Trains a Random Forest model with default settings.\n",
    "- Evaluates the model on the test data.\n",
    "\n",
    "### Tuned Model:\n",
    "- Uses GridSearchCV to find the best settings (hyperparameters) for the Random Forest model.\n",
    "- Trains the model with these best settings.\n",
    "- Evaluates the tuned model on the test data.\n",
    "### Cross-Validation:\n",
    "- Checks the average performance of both the default and tuned models using cross-validation (splitting the data into 3 parts and training/testing on each part).\n",
    "## Results:\n",
    "\n",
    "### Default Model:\n",
    "- Accuracy: 0.999991\n",
    "\n",
    "### Tuned Model:\n",
    "- Accuracy: 0.999992 (slightly better than default)\n"
   ],
   "id": "c8fa3ef91cf5c4b"
  },
  {
   "metadata": {},
   "cell_type": "markdown",
   "source": "Create the tuner class",
   "id": "b1a212d6aea7140a"
  },
  {
   "metadata": {
    "ExecuteTime": {
     "end_time": "2024-10-25T13:17:48.206647Z",
     "start_time": "2024-10-25T13:17:07.151795Z"
    }
   },
   "cell_type": "code",
   "source": "tuner_rf_clf = Tuner(RandomForestClassifier(), X_train, X_test, y_train, y_test)",
   "id": "704c70f5b175f933",
   "outputs": [],
   "execution_count": 3
  },
  {
   "metadata": {},
   "cell_type": "markdown",
   "source": "Evaluate the default model",
   "id": "5c8dc7a5391b6a40"
  },
  {
   "metadata": {
    "ExecuteTime": {
     "end_time": "2024-10-25T13:19:03.253996Z",
     "start_time": "2024-10-25T13:17:48.211654Z"
    }
   },
   "cell_type": "code",
   "source": "tuner_rf_clf.evaluate()",
   "id": "20312e9e1df5e620",
   "outputs": [
    {
     "name": "stdout",
     "output_type": "stream",
     "text": [
      "Default model accuracy:\n",
      "\t0.99999626665472\n",
      "Default model Report:\n",
      "              precision    recall  f1-score   support\n",
      "\n",
      "  legitimate       1.00      1.00      1.00    937571\n",
      "    phishing       1.00      1.00      1.00    937423\n",
      "\n",
      "    accuracy                           1.00   1874994\n",
      "   macro avg       1.00      1.00      1.00   1874994\n",
      "weighted avg       1.00      1.00      1.00   1874994\n",
      "\n"
     ]
    }
   ],
   "execution_count": 4
  },
  {
   "metadata": {},
   "cell_type": "markdown",
   "source": "tune the model",
   "id": "483919586f25e9b7"
  },
  {
   "metadata": {
    "ExecuteTime": {
     "end_time": "2024-10-25T13:28:07.077571Z",
     "start_time": "2024-10-25T13:19:03.293054Z"
    }
   },
   "cell_type": "code",
   "source": [
    "param_grid_rf_clf = {\n",
    "    'n_estimators': [10, 50, 100],\n",
    "    'max_depth': [None, 10, 20],\n",
    "    'min_samples_split': [2, 5, 10]\n",
    "}\n",
    "\n",
    "tuner_rf_clf.tune(param_grid=param_grid_rf_clf)"
   ],
   "id": "6ed2689b84f94b92",
   "outputs": [],
   "execution_count": 5
  },
  {
   "metadata": {},
   "cell_type": "markdown",
   "source": "Evaluate the best model",
   "id": "579ffef11e323e7d"
  },
  {
   "metadata": {
    "ExecuteTime": {
     "end_time": "2024-10-25T13:29:17.978455Z",
     "start_time": "2024-10-25T13:28:07.092378Z"
    }
   },
   "cell_type": "code",
   "source": "tuner_rf_clf.evaluate(model='best')",
   "id": "9c474a41881237c7",
   "outputs": [
    {
     "name": "stdout",
     "output_type": "stream",
     "text": [
      "Best model accuracy:\n",
      "\t0.9999909333043199\n",
      "Best model Report:\n",
      "              precision    recall  f1-score   support\n",
      "\n",
      "  legitimate       1.00      1.00      1.00    937571\n",
      "    phishing       1.00      1.00      1.00    937423\n",
      "\n",
      "    accuracy                           1.00   1874994\n",
      "   macro avg       1.00      1.00      1.00   1874994\n",
      "weighted avg       1.00      1.00      1.00   1874994\n",
      "\n"
     ]
    }
   ],
   "execution_count": 6
  },
  {
   "metadata": {},
   "cell_type": "markdown",
   "source": "Perform cross validation",
   "id": "f93b4d4c5a5f399b"
  },
  {
   "metadata": {
    "ExecuteTime": {
     "end_time": "2024-10-25T13:29:53.730361Z",
     "start_time": "2024-10-25T13:29:17.992078Z"
    }
   },
   "cell_type": "code",
   "source": "tuner_rf_clf.cross_validation(cv=3)",
   "id": "8fb368619841e418",
   "outputs": [
    {
     "name": "stdout",
     "output_type": "stream",
     "text": [
      "Default model Cross-Validation accuracy:\n",
      "\t0.9999935999820799\n"
     ]
    }
   ],
   "execution_count": 7
  },
  {
   "metadata": {
    "ExecuteTime": {
     "end_time": "2024-10-25T13:30:13.211001Z",
     "start_time": "2024-10-25T13:29:53.745821Z"
    }
   },
   "cell_type": "code",
   "source": "tuner_rf_clf.cross_validation(model='best', cv=3)",
   "id": "c932cb7d7b08f131",
   "outputs": [
    {
     "name": "stdout",
     "output_type": "stream",
     "text": [
      "Best model Cross-Validation accuracy:\n",
      "\t0.9999903999769599\n"
     ]
    }
   ],
   "execution_count": 8
  },
  {
   "metadata": {},
   "cell_type": "markdown",
   "source": [
    "# Analysis of SVM\n",
    "### Default Model:\n",
    "- Trains an SVM model with default settings.\n",
    "- Evaluates the model on the test data.\n",
    "### Tuned Model:\n",
    "- Uses GridSearchCV to find the best settings (hyperparameters) for the SVM model.\n",
    "- Trains the model with these best settings.\n",
    "= Evaluates the tuned model on the test data.\n",
    "### Cross-Validation:\n",
    "- Checks the average performance of both the default and tuned models using cross-validation (splitting the data into 3 parts and training/testing on each part).\n",
    "\n",
    "## Results:\n",
    "\n",
    "### Default Model:  \n",
    "- Accuracy: 0.999976\n",
    "- Detailed report shows precision, recall, and F1-score all close to 1.00 for both classes (0 and 1)\n",
    "### Tuned Model:  \n",
    "- Accuracy: 0.999987 (slightly better than default)\n",
    "- Detailed report shows precision, recall, and F1-score all close to 1.00 for both classes (0 and 1)\n",
    "### Cross-Validation:\n",
    "- Default model average accuracy: 0.999976\n",
    "- Tuned model average accuracy: 0.999979"
   ],
   "id": "5b36d57956e58c00"
  },
  {
   "metadata": {},
   "cell_type": "markdown",
   "source": "Create the tuner class",
   "id": "66f7c0e78a6a5530"
  },
  {
   "metadata": {
    "ExecuteTime": {
     "end_time": "2024-10-25T12:38:18.427312Z",
     "start_time": "2024-10-25T12:37:02.227215Z"
    }
   },
   "cell_type": "code",
   "source": "tuner_svm_clf = Tuner(SVC(), X_train, X_test, y_train, y_test)",
   "id": "395dc4115e121152",
   "outputs": [],
   "execution_count": 23
  },
  {
   "metadata": {},
   "cell_type": "markdown",
   "source": "Evaluate the default model",
   "id": "686f14c7580c1b52"
  },
  {
   "metadata": {
    "ExecuteTime": {
     "end_time": "2024-10-25T12:41:47.175743Z",
     "start_time": "2024-10-25T12:38:18.432323Z"
    }
   },
   "cell_type": "code",
   "source": "tuner_svm_clf.evaluate()",
   "id": "c30b612ab3c9f802",
   "outputs": [
    {
     "name": "stdout",
     "output_type": "stream",
     "text": [
      "Default model accuracy:\n",
      "\t0.9999775999283198\n",
      "Default model Report:\n",
      "\t              precision    recall  f1-score   support\n",
      "\n",
      "  legitimate       1.00      1.00      1.00    937571\n",
      "    phishing       1.00      1.00      1.00    937423\n",
      "\n",
      "    accuracy                           1.00   1874994\n",
      "   macro avg       1.00      1.00      1.00   1874994\n",
      "weighted avg       1.00      1.00      1.00   1874994\n",
      "\n"
     ]
    }
   ],
   "execution_count": 24
  },
  {
   "metadata": {},
   "cell_type": "markdown",
   "source": "tune the model",
   "id": "1593a9d6f2d7d69"
  },
  {
   "metadata": {
    "ExecuteTime": {
     "end_time": "2024-10-25T12:58:46.413008Z",
     "start_time": "2024-10-25T12:51:42.911204Z"
    }
   },
   "cell_type": "code",
   "source": [
    "param_grid_svm_clf = {\n",
    "    'C': [0.1, 1, 10],\n",
    "    'kernel': ['linear', 'rbf']\n",
    "}\n",
    "\n",
    "tuner_svm_clf.tune(param_grid=param_grid_svm_clf, verbose=3)"
   ],
   "id": "2aaeabbcabe8aff1",
   "outputs": [
    {
     "name": "stdout",
     "output_type": "stream",
     "text": [
      "Fitting 5 folds for each of 6 candidates, totalling 30 fits\n"
     ]
    }
   ],
   "execution_count": 30
  },
  {
   "metadata": {},
   "cell_type": "markdown",
   "source": "Evaluate the best model",
   "id": "8268f264d2b32db7"
  },
  {
   "metadata": {
    "ExecuteTime": {
     "end_time": "2024-10-25T13:01:50.259098Z",
     "start_time": "2024-10-25T12:58:46.428464Z"
    }
   },
   "cell_type": "code",
   "source": "tuner_svm_clf.evaluate(model='best')",
   "id": "922df4734dfc304c",
   "outputs": [
    {
     "name": "stdout",
     "output_type": "stream",
     "text": [
      "Best model accuracy:\n",
      "\t0.9999877332940799\n",
      "Best model Report:\n",
      "\t              precision    recall  f1-score   support\n",
      "\n",
      "  legitimate       1.00      1.00      1.00    937571\n",
      "    phishing       1.00      1.00      1.00    937423\n",
      "\n",
      "    accuracy                           1.00   1874994\n",
      "   macro avg       1.00      1.00      1.00   1874994\n",
      "weighted avg       1.00      1.00      1.00   1874994\n",
      "\n"
     ]
    }
   ],
   "execution_count": 31
  },
  {
   "metadata": {},
   "cell_type": "markdown",
   "source": "Perform cross validation",
   "id": "321ce3afba3fd143"
  },
  {
   "metadata": {
    "ExecuteTime": {
     "end_time": "2024-10-25T13:06:28.949952Z",
     "start_time": "2024-10-25T13:01:50.274306Z"
    }
   },
   "cell_type": "code",
   "source": "tuner_svm_clf.cross_validation(cv=3)",
   "id": "c5ab72d2f9b9f8d5",
   "outputs": [
    {
     "name": "stdout",
     "output_type": "stream",
     "text": [
      "Default model Cross-Validation accuracy:\n",
      "\t0.9999759999385597\n"
     ]
    }
   ],
   "execution_count": 32
  },
  {
   "metadata": {
    "ExecuteTime": {
     "end_time": "2024-10-25T13:08:02.088927Z",
     "start_time": "2024-10-25T13:06:29.029710Z"
    }
   },
   "cell_type": "code",
   "source": "tuner_svm_clf.cross_validation(model='best', cv=3)",
   "id": "d6fb38fa81fc1497",
   "outputs": [
    {
     "name": "stdout",
     "output_type": "stream",
     "text": [
      "Best model Cross-Validation accuracy:\n",
      "\t0.9999839999667198\n"
     ]
    }
   ],
   "execution_count": 33
  },
  {
   "metadata": {},
   "cell_type": "markdown",
   "source": [
    "# Analysis of Bad Model\n",
    "\n",
    "Here i created a worse model by having a decision tree with a max depth of 1. This model is expected to perform poorly compared to the other models.\n",
    "Then i use hyperparameter tuning to improve the model and compare the results with the tuned model. This gives a more noticable imporvement in the model. Compared to the other models, the bad model has a lower accuracy and F1-score."
   ],
   "id": "15bb218bfb59678c"
  },
  {
   "metadata": {
    "ExecuteTime": {
     "end_time": "2024-10-25T13:09:52.762208Z",
     "start_time": "2024-10-25T13:09:39.209669Z"
    }
   },
   "cell_type": "code",
   "source": [
    "from sklearn.tree import DecisionTreeClassifier\n",
    "from sklearn.model_selection import GridSearchCV, cross_val_score\n",
    "from sklearn.metrics import accuracy_score, classification_report\n",
    "from sklearn.model_selection import train_test_split\n",
    "from sklearn.preprocessing import StandardScaler\n",
    "\n",
    "# Define features (X) and target (y)\n",
    "X = data.copy()\n",
    "y = X.pop('label')\n",
    "\n",
    "# Convert the target labels to binary format\n",
    "y = y.map({'phishing': 1, 'legitimate': 0})\n",
    "\n",
    "# Split the dataset into training and test sets\n",
    "X_train, X_test, y_train, y_test = train_test_split(X, y, test_size=0.75, random_state=42)\n",
    "\n",
    "# Scale the features\n",
    "scaler = StandardScaler()\n",
    "X_train = scaler.fit_transform(X_train)\n",
    "X_test = scaler.transform(X_test)\n",
    "\n",
    "# Define the Decision Tree classifier with limited depth\n",
    "bad_model = DecisionTreeClassifier(max_depth=1)\n",
    "\n",
    "# Train the bad model with default parameters\n",
    "bad_model.fit(X_train, y_train)\n",
    "\n",
    "# Evaluate the bad model\n",
    "bad_model_pred = bad_model.predict(X_test)\n",
    "print(\"Bad Model Accuracy: \", accuracy_score(y_test, bad_model_pred))\n",
    "print(\"Bad Model Report:\\n\", classification_report(y_test, bad_model_pred, zero_division=0))\n",
    "\n",
    "# Perform cross-validation on the bad model\n",
    "bad_model_scores = cross_val_score(bad_model, X_train, y_train, cv=3, scoring='accuracy', n_jobs=-1)\n",
    "print(\"Bad Model Cross-Validation Accuracy: \", bad_model_scores.mean())\n",
    "\n",
    "# Define parameter grid for DecisionTreeClassifier\n",
    "param_grid_tree = {\n",
    "    'max_depth': [1, 2, 3, 4, 5],\n",
    "    'min_samples_split': [2, 5, 10]\n",
    "}\n",
    "\n",
    "# Initialize GridSearchCV with DecisionTreeClassifier\n",
    "grid_tree_clf = GridSearchCV(DecisionTreeClassifier(), param_grid_tree, cv=5, scoring='accuracy', n_jobs=-1)\n",
    "grid_tree_clf.fit(X_train, y_train)\n",
    "\n",
    "# Get the best model from GridSearchCV\n",
    "best_tree_clf = grid_tree_clf.best_estimator_\n",
    "\n",
    "# Evaluate the best model\n",
    "tree_clf_pred = best_tree_clf.predict(X_test)\n",
    "print(\"Tuned Decision Tree Accuracy: \", accuracy_score(y_test, tree_clf_pred))\n",
    "print(\"Tuned Decision Tree Report:\\n\", classification_report(y_test, tree_clf_pred, zero_division=0))\n",
    "\n",
    "# Perform cross-validation on the tuned model\n",
    "tuned_tree_scores = cross_val_score(best_tree_clf, X_train, y_train, cv=3, scoring='accuracy', n_jobs=-1)\n",
    "print(\"Tuned Decision Tree Cross-Validation Accuracy: \", tuned_tree_scores.mean())"
   ],
   "id": "ee2fbb1777d959",
   "outputs": [
    {
     "name": "stdout",
     "output_type": "stream",
     "text": [
      "Bad Model Accuracy:  0.9440830210656674\n",
      "Bad Model Report:\n",
      "               precision    recall  f1-score   support\n",
      "\n",
      "           0       0.92      0.97      0.95    937571\n",
      "           1       0.97      0.92      0.94    937423\n",
      "\n",
      "    accuracy                           0.94   1874994\n",
      "   macro avg       0.95      0.94      0.94   1874994\n",
      "weighted avg       0.95      0.94      0.94   1874994\n",
      "\n",
      "Bad Model Cross-Validation Accuracy:  0.9444814224196278\n"
     ]
    },
    {
     "ename": "KeyboardInterrupt",
     "evalue": "",
     "output_type": "error",
     "traceback": [
      "\u001B[1;31m---------------------------------------------------------------------------\u001B[0m",
      "\u001B[1;31mKeyboardInterrupt\u001B[0m                         Traceback (most recent call last)",
      "Cell \u001B[1;32mIn[35], line 45\u001B[0m\n\u001B[0;32m     43\u001B[0m \u001B[38;5;66;03m# Initialize GridSearchCV with DecisionTreeClassifier\u001B[39;00m\n\u001B[0;32m     44\u001B[0m grid_tree_clf \u001B[38;5;241m=\u001B[39m GridSearchCV(DecisionTreeClassifier(), param_grid_tree, cv\u001B[38;5;241m=\u001B[39m\u001B[38;5;241m5\u001B[39m, scoring\u001B[38;5;241m=\u001B[39m\u001B[38;5;124m'\u001B[39m\u001B[38;5;124maccuracy\u001B[39m\u001B[38;5;124m'\u001B[39m, n_jobs\u001B[38;5;241m=\u001B[39m\u001B[38;5;241m-\u001B[39m\u001B[38;5;241m1\u001B[39m)\n\u001B[1;32m---> 45\u001B[0m \u001B[43mgrid_tree_clf\u001B[49m\u001B[38;5;241;43m.\u001B[39;49m\u001B[43mfit\u001B[49m\u001B[43m(\u001B[49m\u001B[43mX_train\u001B[49m\u001B[43m,\u001B[49m\u001B[43m \u001B[49m\u001B[43my_train\u001B[49m\u001B[43m)\u001B[49m\n\u001B[0;32m     47\u001B[0m \u001B[38;5;66;03m# Get the best model from GridSearchCV\u001B[39;00m\n\u001B[0;32m     48\u001B[0m best_tree_clf \u001B[38;5;241m=\u001B[39m grid_tree_clf\u001B[38;5;241m.\u001B[39mbest_estimator_\n",
      "File \u001B[1;32m~\\.venvs\\AI3\\Lib\\site-packages\\sklearn\\base.py:1473\u001B[0m, in \u001B[0;36m_fit_context.<locals>.decorator.<locals>.wrapper\u001B[1;34m(estimator, *args, **kwargs)\u001B[0m\n\u001B[0;32m   1466\u001B[0m     estimator\u001B[38;5;241m.\u001B[39m_validate_params()\n\u001B[0;32m   1468\u001B[0m \u001B[38;5;28;01mwith\u001B[39;00m config_context(\n\u001B[0;32m   1469\u001B[0m     skip_parameter_validation\u001B[38;5;241m=\u001B[39m(\n\u001B[0;32m   1470\u001B[0m         prefer_skip_nested_validation \u001B[38;5;129;01mor\u001B[39;00m global_skip_validation\n\u001B[0;32m   1471\u001B[0m     )\n\u001B[0;32m   1472\u001B[0m ):\n\u001B[1;32m-> 1473\u001B[0m     \u001B[38;5;28;01mreturn\u001B[39;00m \u001B[43mfit_method\u001B[49m\u001B[43m(\u001B[49m\u001B[43mestimator\u001B[49m\u001B[43m,\u001B[49m\u001B[43m \u001B[49m\u001B[38;5;241;43m*\u001B[39;49m\u001B[43margs\u001B[49m\u001B[43m,\u001B[49m\u001B[43m \u001B[49m\u001B[38;5;241;43m*\u001B[39;49m\u001B[38;5;241;43m*\u001B[39;49m\u001B[43mkwargs\u001B[49m\u001B[43m)\u001B[49m\n",
      "File \u001B[1;32m~\\.venvs\\AI3\\Lib\\site-packages\\sklearn\\model_selection\\_search.py:1019\u001B[0m, in \u001B[0;36mBaseSearchCV.fit\u001B[1;34m(self, X, y, **params)\u001B[0m\n\u001B[0;32m   1013\u001B[0m     results \u001B[38;5;241m=\u001B[39m \u001B[38;5;28mself\u001B[39m\u001B[38;5;241m.\u001B[39m_format_results(\n\u001B[0;32m   1014\u001B[0m         all_candidate_params, n_splits, all_out, all_more_results\n\u001B[0;32m   1015\u001B[0m     )\n\u001B[0;32m   1017\u001B[0m     \u001B[38;5;28;01mreturn\u001B[39;00m results\n\u001B[1;32m-> 1019\u001B[0m \u001B[38;5;28;43mself\u001B[39;49m\u001B[38;5;241;43m.\u001B[39;49m\u001B[43m_run_search\u001B[49m\u001B[43m(\u001B[49m\u001B[43mevaluate_candidates\u001B[49m\u001B[43m)\u001B[49m\n\u001B[0;32m   1021\u001B[0m \u001B[38;5;66;03m# multimetric is determined here because in the case of a callable\u001B[39;00m\n\u001B[0;32m   1022\u001B[0m \u001B[38;5;66;03m# self.scoring the return type is only known after calling\u001B[39;00m\n\u001B[0;32m   1023\u001B[0m first_test_score \u001B[38;5;241m=\u001B[39m all_out[\u001B[38;5;241m0\u001B[39m][\u001B[38;5;124m\"\u001B[39m\u001B[38;5;124mtest_scores\u001B[39m\u001B[38;5;124m\"\u001B[39m]\n",
      "File \u001B[1;32m~\\.venvs\\AI3\\Lib\\site-packages\\sklearn\\model_selection\\_search.py:1573\u001B[0m, in \u001B[0;36mGridSearchCV._run_search\u001B[1;34m(self, evaluate_candidates)\u001B[0m\n\u001B[0;32m   1571\u001B[0m \u001B[38;5;28;01mdef\u001B[39;00m \u001B[38;5;21m_run_search\u001B[39m(\u001B[38;5;28mself\u001B[39m, evaluate_candidates):\n\u001B[0;32m   1572\u001B[0m \u001B[38;5;250m    \u001B[39m\u001B[38;5;124;03m\"\"\"Search all candidates in param_grid\"\"\"\u001B[39;00m\n\u001B[1;32m-> 1573\u001B[0m     \u001B[43mevaluate_candidates\u001B[49m\u001B[43m(\u001B[49m\u001B[43mParameterGrid\u001B[49m\u001B[43m(\u001B[49m\u001B[38;5;28;43mself\u001B[39;49m\u001B[38;5;241;43m.\u001B[39;49m\u001B[43mparam_grid\u001B[49m\u001B[43m)\u001B[49m\u001B[43m)\u001B[49m\n",
      "File \u001B[1;32m~\\.venvs\\AI3\\Lib\\site-packages\\sklearn\\model_selection\\_search.py:965\u001B[0m, in \u001B[0;36mBaseSearchCV.fit.<locals>.evaluate_candidates\u001B[1;34m(candidate_params, cv, more_results)\u001B[0m\n\u001B[0;32m    957\u001B[0m \u001B[38;5;28;01mif\u001B[39;00m \u001B[38;5;28mself\u001B[39m\u001B[38;5;241m.\u001B[39mverbose \u001B[38;5;241m>\u001B[39m \u001B[38;5;241m0\u001B[39m:\n\u001B[0;32m    958\u001B[0m     \u001B[38;5;28mprint\u001B[39m(\n\u001B[0;32m    959\u001B[0m         \u001B[38;5;124m\"\u001B[39m\u001B[38;5;124mFitting \u001B[39m\u001B[38;5;132;01m{0}\u001B[39;00m\u001B[38;5;124m folds for each of \u001B[39m\u001B[38;5;132;01m{1}\u001B[39;00m\u001B[38;5;124m candidates,\u001B[39m\u001B[38;5;124m\"\u001B[39m\n\u001B[0;32m    960\u001B[0m         \u001B[38;5;124m\"\u001B[39m\u001B[38;5;124m totalling \u001B[39m\u001B[38;5;132;01m{2}\u001B[39;00m\u001B[38;5;124m fits\u001B[39m\u001B[38;5;124m\"\u001B[39m\u001B[38;5;241m.\u001B[39mformat(\n\u001B[0;32m    961\u001B[0m             n_splits, n_candidates, n_candidates \u001B[38;5;241m*\u001B[39m n_splits\n\u001B[0;32m    962\u001B[0m         )\n\u001B[0;32m    963\u001B[0m     )\n\u001B[1;32m--> 965\u001B[0m out \u001B[38;5;241m=\u001B[39m \u001B[43mparallel\u001B[49m\u001B[43m(\u001B[49m\n\u001B[0;32m    966\u001B[0m \u001B[43m    \u001B[49m\u001B[43mdelayed\u001B[49m\u001B[43m(\u001B[49m\u001B[43m_fit_and_score\u001B[49m\u001B[43m)\u001B[49m\u001B[43m(\u001B[49m\n\u001B[0;32m    967\u001B[0m \u001B[43m        \u001B[49m\u001B[43mclone\u001B[49m\u001B[43m(\u001B[49m\u001B[43mbase_estimator\u001B[49m\u001B[43m)\u001B[49m\u001B[43m,\u001B[49m\n\u001B[0;32m    968\u001B[0m \u001B[43m        \u001B[49m\u001B[43mX\u001B[49m\u001B[43m,\u001B[49m\n\u001B[0;32m    969\u001B[0m \u001B[43m        \u001B[49m\u001B[43my\u001B[49m\u001B[43m,\u001B[49m\n\u001B[0;32m    970\u001B[0m \u001B[43m        \u001B[49m\u001B[43mtrain\u001B[49m\u001B[38;5;241;43m=\u001B[39;49m\u001B[43mtrain\u001B[49m\u001B[43m,\u001B[49m\n\u001B[0;32m    971\u001B[0m \u001B[43m        \u001B[49m\u001B[43mtest\u001B[49m\u001B[38;5;241;43m=\u001B[39;49m\u001B[43mtest\u001B[49m\u001B[43m,\u001B[49m\n\u001B[0;32m    972\u001B[0m \u001B[43m        \u001B[49m\u001B[43mparameters\u001B[49m\u001B[38;5;241;43m=\u001B[39;49m\u001B[43mparameters\u001B[49m\u001B[43m,\u001B[49m\n\u001B[0;32m    973\u001B[0m \u001B[43m        \u001B[49m\u001B[43msplit_progress\u001B[49m\u001B[38;5;241;43m=\u001B[39;49m\u001B[43m(\u001B[49m\u001B[43msplit_idx\u001B[49m\u001B[43m,\u001B[49m\u001B[43m \u001B[49m\u001B[43mn_splits\u001B[49m\u001B[43m)\u001B[49m\u001B[43m,\u001B[49m\n\u001B[0;32m    974\u001B[0m \u001B[43m        \u001B[49m\u001B[43mcandidate_progress\u001B[49m\u001B[38;5;241;43m=\u001B[39;49m\u001B[43m(\u001B[49m\u001B[43mcand_idx\u001B[49m\u001B[43m,\u001B[49m\u001B[43m \u001B[49m\u001B[43mn_candidates\u001B[49m\u001B[43m)\u001B[49m\u001B[43m,\u001B[49m\n\u001B[0;32m    975\u001B[0m \u001B[43m        \u001B[49m\u001B[38;5;241;43m*\u001B[39;49m\u001B[38;5;241;43m*\u001B[39;49m\u001B[43mfit_and_score_kwargs\u001B[49m\u001B[43m,\u001B[49m\n\u001B[0;32m    976\u001B[0m \u001B[43m    \u001B[49m\u001B[43m)\u001B[49m\n\u001B[0;32m    977\u001B[0m \u001B[43m    \u001B[49m\u001B[38;5;28;43;01mfor\u001B[39;49;00m\u001B[43m \u001B[49m\u001B[43m(\u001B[49m\u001B[43mcand_idx\u001B[49m\u001B[43m,\u001B[49m\u001B[43m \u001B[49m\u001B[43mparameters\u001B[49m\u001B[43m)\u001B[49m\u001B[43m,\u001B[49m\u001B[43m \u001B[49m\u001B[43m(\u001B[49m\u001B[43msplit_idx\u001B[49m\u001B[43m,\u001B[49m\u001B[43m \u001B[49m\u001B[43m(\u001B[49m\u001B[43mtrain\u001B[49m\u001B[43m,\u001B[49m\u001B[43m \u001B[49m\u001B[43mtest\u001B[49m\u001B[43m)\u001B[49m\u001B[43m)\u001B[49m\u001B[43m \u001B[49m\u001B[38;5;129;43;01min\u001B[39;49;00m\u001B[43m \u001B[49m\u001B[43mproduct\u001B[49m\u001B[43m(\u001B[49m\n\u001B[0;32m    978\u001B[0m \u001B[43m        \u001B[49m\u001B[38;5;28;43menumerate\u001B[39;49m\u001B[43m(\u001B[49m\u001B[43mcandidate_params\u001B[49m\u001B[43m)\u001B[49m\u001B[43m,\u001B[49m\n\u001B[0;32m    979\u001B[0m \u001B[43m        \u001B[49m\u001B[38;5;28;43menumerate\u001B[39;49m\u001B[43m(\u001B[49m\u001B[43mcv\u001B[49m\u001B[38;5;241;43m.\u001B[39;49m\u001B[43msplit\u001B[49m\u001B[43m(\u001B[49m\u001B[43mX\u001B[49m\u001B[43m,\u001B[49m\u001B[43m \u001B[49m\u001B[43my\u001B[49m\u001B[43m,\u001B[49m\u001B[43m \u001B[49m\u001B[38;5;241;43m*\u001B[39;49m\u001B[38;5;241;43m*\u001B[39;49m\u001B[43mrouted_params\u001B[49m\u001B[38;5;241;43m.\u001B[39;49m\u001B[43msplitter\u001B[49m\u001B[38;5;241;43m.\u001B[39;49m\u001B[43msplit\u001B[49m\u001B[43m)\u001B[49m\u001B[43m)\u001B[49m\u001B[43m,\u001B[49m\n\u001B[0;32m    980\u001B[0m \u001B[43m    \u001B[49m\u001B[43m)\u001B[49m\n\u001B[0;32m    981\u001B[0m \u001B[43m\u001B[49m\u001B[43m)\u001B[49m\n\u001B[0;32m    983\u001B[0m \u001B[38;5;28;01mif\u001B[39;00m \u001B[38;5;28mlen\u001B[39m(out) \u001B[38;5;241m<\u001B[39m \u001B[38;5;241m1\u001B[39m:\n\u001B[0;32m    984\u001B[0m     \u001B[38;5;28;01mraise\u001B[39;00m \u001B[38;5;167;01mValueError\u001B[39;00m(\n\u001B[0;32m    985\u001B[0m         \u001B[38;5;124m\"\u001B[39m\u001B[38;5;124mNo fits were performed. \u001B[39m\u001B[38;5;124m\"\u001B[39m\n\u001B[0;32m    986\u001B[0m         \u001B[38;5;124m\"\u001B[39m\u001B[38;5;124mWas the CV iterator empty? \u001B[39m\u001B[38;5;124m\"\u001B[39m\n\u001B[0;32m    987\u001B[0m         \u001B[38;5;124m\"\u001B[39m\u001B[38;5;124mWere there no candidates?\u001B[39m\u001B[38;5;124m\"\u001B[39m\n\u001B[0;32m    988\u001B[0m     )\n",
      "File \u001B[1;32m~\\.venvs\\AI3\\Lib\\site-packages\\sklearn\\utils\\parallel.py:74\u001B[0m, in \u001B[0;36mParallel.__call__\u001B[1;34m(self, iterable)\u001B[0m\n\u001B[0;32m     69\u001B[0m config \u001B[38;5;241m=\u001B[39m get_config()\n\u001B[0;32m     70\u001B[0m iterable_with_config \u001B[38;5;241m=\u001B[39m (\n\u001B[0;32m     71\u001B[0m     (_with_config(delayed_func, config), args, kwargs)\n\u001B[0;32m     72\u001B[0m     \u001B[38;5;28;01mfor\u001B[39;00m delayed_func, args, kwargs \u001B[38;5;129;01min\u001B[39;00m iterable\n\u001B[0;32m     73\u001B[0m )\n\u001B[1;32m---> 74\u001B[0m \u001B[38;5;28;01mreturn\u001B[39;00m \u001B[38;5;28;43msuper\u001B[39;49m\u001B[43m(\u001B[49m\u001B[43m)\u001B[49m\u001B[38;5;241;43m.\u001B[39;49m\u001B[38;5;21;43m__call__\u001B[39;49m\u001B[43m(\u001B[49m\u001B[43miterable_with_config\u001B[49m\u001B[43m)\u001B[49m\n",
      "File \u001B[1;32m~\\.venvs\\AI3\\Lib\\site-packages\\joblib\\parallel.py:2007\u001B[0m, in \u001B[0;36mParallel.__call__\u001B[1;34m(self, iterable)\u001B[0m\n\u001B[0;32m   2001\u001B[0m \u001B[38;5;66;03m# The first item from the output is blank, but it makes the interpreter\u001B[39;00m\n\u001B[0;32m   2002\u001B[0m \u001B[38;5;66;03m# progress until it enters the Try/Except block of the generator and\u001B[39;00m\n\u001B[0;32m   2003\u001B[0m \u001B[38;5;66;03m# reaches the first `yield` statement. This starts the asynchronous\u001B[39;00m\n\u001B[0;32m   2004\u001B[0m \u001B[38;5;66;03m# dispatch of the tasks to the workers.\u001B[39;00m\n\u001B[0;32m   2005\u001B[0m \u001B[38;5;28mnext\u001B[39m(output)\n\u001B[1;32m-> 2007\u001B[0m \u001B[38;5;28;01mreturn\u001B[39;00m output \u001B[38;5;28;01mif\u001B[39;00m \u001B[38;5;28mself\u001B[39m\u001B[38;5;241m.\u001B[39mreturn_generator \u001B[38;5;28;01melse\u001B[39;00m \u001B[38;5;28;43mlist\u001B[39;49m\u001B[43m(\u001B[49m\u001B[43moutput\u001B[49m\u001B[43m)\u001B[49m\n",
      "File \u001B[1;32m~\\.venvs\\AI3\\Lib\\site-packages\\joblib\\parallel.py:1650\u001B[0m, in \u001B[0;36mParallel._get_outputs\u001B[1;34m(self, iterator, pre_dispatch)\u001B[0m\n\u001B[0;32m   1647\u001B[0m     \u001B[38;5;28;01myield\u001B[39;00m\n\u001B[0;32m   1649\u001B[0m     \u001B[38;5;28;01mwith\u001B[39;00m \u001B[38;5;28mself\u001B[39m\u001B[38;5;241m.\u001B[39m_backend\u001B[38;5;241m.\u001B[39mretrieval_context():\n\u001B[1;32m-> 1650\u001B[0m         \u001B[38;5;28;01myield from\u001B[39;00m \u001B[38;5;28mself\u001B[39m\u001B[38;5;241m.\u001B[39m_retrieve()\n\u001B[0;32m   1652\u001B[0m \u001B[38;5;28;01mexcept\u001B[39;00m \u001B[38;5;167;01mGeneratorExit\u001B[39;00m:\n\u001B[0;32m   1653\u001B[0m     \u001B[38;5;66;03m# The generator has been garbage collected before being fully\u001B[39;00m\n\u001B[0;32m   1654\u001B[0m     \u001B[38;5;66;03m# consumed. This aborts the remaining tasks if possible and warn\u001B[39;00m\n\u001B[0;32m   1655\u001B[0m     \u001B[38;5;66;03m# the user if necessary.\u001B[39;00m\n\u001B[0;32m   1656\u001B[0m     \u001B[38;5;28mself\u001B[39m\u001B[38;5;241m.\u001B[39m_exception \u001B[38;5;241m=\u001B[39m \u001B[38;5;28;01mTrue\u001B[39;00m\n",
      "File \u001B[1;32m~\\.venvs\\AI3\\Lib\\site-packages\\joblib\\parallel.py:1762\u001B[0m, in \u001B[0;36mParallel._retrieve\u001B[1;34m(self)\u001B[0m\n\u001B[0;32m   1757\u001B[0m \u001B[38;5;66;03m# If the next job is not ready for retrieval yet, we just wait for\u001B[39;00m\n\u001B[0;32m   1758\u001B[0m \u001B[38;5;66;03m# async callbacks to progress.\u001B[39;00m\n\u001B[0;32m   1759\u001B[0m \u001B[38;5;28;01mif\u001B[39;00m ((\u001B[38;5;28mlen\u001B[39m(\u001B[38;5;28mself\u001B[39m\u001B[38;5;241m.\u001B[39m_jobs) \u001B[38;5;241m==\u001B[39m \u001B[38;5;241m0\u001B[39m) \u001B[38;5;129;01mor\u001B[39;00m\n\u001B[0;32m   1760\u001B[0m     (\u001B[38;5;28mself\u001B[39m\u001B[38;5;241m.\u001B[39m_jobs[\u001B[38;5;241m0\u001B[39m]\u001B[38;5;241m.\u001B[39mget_status(\n\u001B[0;32m   1761\u001B[0m         timeout\u001B[38;5;241m=\u001B[39m\u001B[38;5;28mself\u001B[39m\u001B[38;5;241m.\u001B[39mtimeout) \u001B[38;5;241m==\u001B[39m TASK_PENDING)):\n\u001B[1;32m-> 1762\u001B[0m     \u001B[43mtime\u001B[49m\u001B[38;5;241;43m.\u001B[39;49m\u001B[43msleep\u001B[49m\u001B[43m(\u001B[49m\u001B[38;5;241;43m0.01\u001B[39;49m\u001B[43m)\u001B[49m\n\u001B[0;32m   1763\u001B[0m     \u001B[38;5;28;01mcontinue\u001B[39;00m\n\u001B[0;32m   1765\u001B[0m \u001B[38;5;66;03m# We need to be careful: the job list can be filling up as\u001B[39;00m\n\u001B[0;32m   1766\u001B[0m \u001B[38;5;66;03m# we empty it and Python list are not thread-safe by\u001B[39;00m\n\u001B[0;32m   1767\u001B[0m \u001B[38;5;66;03m# default hence the use of the lock\u001B[39;00m\n",
      "\u001B[1;31mKeyboardInterrupt\u001B[0m: "
     ]
    }
   ],
   "execution_count": 35
  },
  {
   "metadata": {},
   "cell_type": "markdown",
   "source": "## Save the best model",
   "id": "ed6a613c5e688986"
  },
  {
   "metadata": {
    "ExecuteTime": {
     "end_time": "2024-10-25T13:47:27.919236Z",
     "start_time": "2024-10-25T13:47:27.898765Z"
    }
   },
   "cell_type": "code",
   "source": "tuner_rf_clf.save_best_model(model_path='../models/random_forest.pkl')",
   "id": "6dc7c890558913b2",
   "outputs": [],
   "execution_count": 12
  }
 ],
 "metadata": {
  "kernelspec": {
   "display_name": "Python 3",
   "language": "python",
   "name": "python3"
  },
  "language_info": {
   "codemirror_mode": {
    "name": "ipython",
    "version": 2
   },
   "file_extension": ".py",
   "mimetype": "text/x-python",
   "name": "python",
   "nbconvert_exporter": "python",
   "pygments_lexer": "ipython2",
   "version": "2.7.6"
  }
 },
 "nbformat": 4,
 "nbformat_minor": 5
}
